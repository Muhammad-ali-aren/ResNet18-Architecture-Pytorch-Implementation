{
  "nbformat": 4,
  "nbformat_minor": 0,
  "metadata": {
    "colab": {
      "provenance": [],
      "authorship_tag": "ABX9TyM8/0Pq7OrJydNn/jeCwINe",
      "include_colab_link": true
    },
    "kernelspec": {
      "name": "python3",
      "display_name": "Python 3"
    },
    "language_info": {
      "name": "python"
    }
  },
  "cells": [
    {
      "cell_type": "markdown",
      "metadata": {
        "id": "view-in-github",
        "colab_type": "text"
      },
      "source": [
        "<a href=\"https://colab.research.google.com/github/Muhammad-ali-aren/ResNet-Architecture-ResNet18/blob/main/Resnet.ipynb\" target=\"_parent\"><img src=\"https://colab.research.google.com/assets/colab-badge.svg\" alt=\"Open In Colab\"/></a>"
      ]
    },
    {
      "cell_type": "code",
      "execution_count": 76,
      "metadata": {
        "id": "ER1eGpSiaMOc"
      },
      "outputs": [],
      "source": [
        "import torch\n",
        "import torch.nn as nn\n",
        "import torchsummary"
      ]
    },
    {
      "cell_type": "code",
      "source": [
        "class ResNet_layer(nn.Module):\n",
        "    def __init__(self,input_channels,output_channels,stride=1):\n",
        "        super().__init__()\n",
        "        self.conv3x_1 = nn.Conv2d(in_channels=input_channels,out_channels=output_channels,kernel_size=3,stride=stride,padding=1)\n",
        "        self.batchn1 = nn.BatchNorm2d(output_channels)\n",
        "        self.conv3x_2 = nn.Conv2d(in_channels=output_channels,out_channels=output_channels,kernel_size=3,padding=1)\n",
        "        self.batchn2 = nn.BatchNorm2d(output_channels)\n",
        "        if input_channels != output_channels or stride != 1:\n",
        "            self.shortcut = nn.Sequential(\n",
        "                nn.Conv2d(in_channels=input_channels,out_channels=output_channels,kernel_size=1,stride=stride),\n",
        "                nn.BatchNorm2d(output_channels)\n",
        "            )\n",
        "        else:\n",
        "            self.shortcut = nn.Identity()\n",
        "    def forward(self,input):\n",
        "        out_shortcut = self.shortcut(input)\n",
        "        out1 = torch.relu(self.batchn1(self.conv3x_1(input)))\n",
        "        out2 = self.batchn2(self.conv3x_2(out1))\n",
        "        out = torch.relu(out2 + out_shortcut)\n",
        "        return out"
      ],
      "metadata": {
        "id": "ohFzCBHnakn1"
      },
      "execution_count": 52,
      "outputs": []
    },
    {
      "cell_type": "code",
      "source": [
        "class ResNet18(nn.Module):\n",
        "    def __init__(self):\n",
        "        super().__init__()\n",
        "        self.conv1 = nn.Conv2d(in_channels=3,out_channels=64,kernel_size=7,stride=2,padding=3)\n",
        "        self.max_pool1 = nn.MaxPool2d(kernel_size=3,stride=2,padding=1)\n",
        "        self.conv2_R = ResNet_layer(input_channels=64,output_channels=64)\n",
        "        self.conv3_R = ResNet_layer(input_channels=64,output_channels=128,stride=2)\n",
        "        self.conv4_R = ResNet_layer(input_channels=128,output_channels=256,stride=2)\n",
        "        self.conv5_R = ResNet_layer(input_channels=256,output_channels=512,stride=2)\n",
        "        self.avg_pool = nn.AvgPool2d(kernel_size=7)\n",
        "        self.fc1 = nn.Linear(1*1*512, 4096)\n",
        "        self.fc2 = nn.Linear(4096,1000)\n",
        "    def forward(self,input):\n",
        "        x = self.max_pool1(self.conv1(input))\n",
        "        x = self.conv3_R(self.conv2_R(x))\n",
        "        x = self.conv5_R(self.conv4_R(x))\n",
        "        x = self.avg_pool(x)\n",
        "        x = torch.flatten(x, 1)\n",
        "        out = self.fc2(self.fc1(x))\n",
        "        return out"
      ],
      "metadata": {
        "id": "OWO4PCg5cVBV"
      },
      "execution_count": 70,
      "outputs": []
    },
    {
      "cell_type": "code",
      "source": [
        "model = ResNet18()\n",
        "torchsummary.summary(model,input_size=(3,224,224))"
      ],
      "metadata": {
        "colab": {
          "base_uri": "https://localhost:8080/"
        },
        "id": "6jBvY8ZtNgh-",
        "outputId": "92448340-1179-43ed-fe4f-12cca63dbe26"
      },
      "execution_count": 77,
      "outputs": [
        {
          "output_type": "stream",
          "name": "stdout",
          "text": [
            "----------------------------------------------------------------\n",
            "        Layer (type)               Output Shape         Param #\n",
            "================================================================\n",
            "            Conv2d-1         [-1, 64, 112, 112]           9,472\n",
            "         MaxPool2d-2           [-1, 64, 56, 56]               0\n",
            "          Identity-3           [-1, 64, 56, 56]               0\n",
            "            Conv2d-4           [-1, 64, 56, 56]          36,928\n",
            "       BatchNorm2d-5           [-1, 64, 56, 56]             128\n",
            "            Conv2d-6           [-1, 64, 56, 56]          36,928\n",
            "       BatchNorm2d-7           [-1, 64, 56, 56]             128\n",
            "      ResNet_layer-8           [-1, 64, 56, 56]               0\n",
            "            Conv2d-9          [-1, 128, 28, 28]           8,320\n",
            "      BatchNorm2d-10          [-1, 128, 28, 28]             256\n",
            "           Conv2d-11          [-1, 128, 28, 28]          73,856\n",
            "      BatchNorm2d-12          [-1, 128, 28, 28]             256\n",
            "           Conv2d-13          [-1, 128, 28, 28]         147,584\n",
            "      BatchNorm2d-14          [-1, 128, 28, 28]             256\n",
            "     ResNet_layer-15          [-1, 128, 28, 28]               0\n",
            "           Conv2d-16          [-1, 256, 14, 14]          33,024\n",
            "      BatchNorm2d-17          [-1, 256, 14, 14]             512\n",
            "           Conv2d-18          [-1, 256, 14, 14]         295,168\n",
            "      BatchNorm2d-19          [-1, 256, 14, 14]             512\n",
            "           Conv2d-20          [-1, 256, 14, 14]         590,080\n",
            "      BatchNorm2d-21          [-1, 256, 14, 14]             512\n",
            "     ResNet_layer-22          [-1, 256, 14, 14]               0\n",
            "           Conv2d-23            [-1, 512, 7, 7]         131,584\n",
            "      BatchNorm2d-24            [-1, 512, 7, 7]           1,024\n",
            "           Conv2d-25            [-1, 512, 7, 7]       1,180,160\n",
            "      BatchNorm2d-26            [-1, 512, 7, 7]           1,024\n",
            "           Conv2d-27            [-1, 512, 7, 7]       2,359,808\n",
            "      BatchNorm2d-28            [-1, 512, 7, 7]           1,024\n",
            "     ResNet_layer-29            [-1, 512, 7, 7]               0\n",
            "        AvgPool2d-30            [-1, 512, 1, 1]               0\n",
            "           Linear-31                 [-1, 4096]       2,101,248\n",
            "           Linear-32                 [-1, 1000]       4,097,000\n",
            "================================================================\n",
            "Total params: 11,106,792\n",
            "Trainable params: 11,106,792\n",
            "Non-trainable params: 0\n",
            "----------------------------------------------------------------\n",
            "Input size (MB): 0.57\n",
            "Forward/backward pass size (MB): 26.27\n",
            "Params size (MB): 42.37\n",
            "Estimated Total Size (MB): 69.21\n",
            "----------------------------------------------------------------\n"
          ]
        }
      ]
    },
    {
      "cell_type": "code",
      "source": [
        "model = ResNet18()\n",
        "model(torch.randn(1,3,224,224)).shape"
      ],
      "metadata": {
        "colab": {
          "base_uri": "https://localhost:8080/"
        },
        "id": "agX-WrCxdJMW",
        "outputId": "3ea32476-f328-47bf-82c8-1fc6108f7a82"
      },
      "execution_count": 71,
      "outputs": [
        {
          "output_type": "execute_result",
          "data": {
            "text/plain": [
              "torch.Size([1, 1000])"
            ]
          },
          "metadata": {},
          "execution_count": 71
        }
      ]
    },
    {
      "cell_type": "code",
      "metadata": {
        "id": "52cadc1d"
      },
      "source": [
        "!pip install ptflops"
      ],
      "execution_count": null,
      "outputs": []
    },
    {
      "cell_type": "code",
      "metadata": {
        "colab": {
          "base_uri": "https://localhost:8080/"
        },
        "id": "0682742e",
        "outputId": "cd24b03d-436d-4dc2-ac8e-659969c7f330"
      },
      "source": [
        "from ptflops import get_model_complexity_info\n",
        "\n",
        "flops, params = get_model_complexity_info(model, (3, 224, 224), as_strings=True, print_per_layer_stat=True)\n",
        "print(f\"FLOPs: {flops}\")\n",
        "print(f\"Params: {params}\")"
      ],
      "execution_count": 79,
      "outputs": [
        {
          "output_type": "stream",
          "name": "stdout",
          "text": [
            "ResNet18(\n",
            "  11.11 M, 100.000% Params, 899.33 MMac, 99.908% MACs, \n",
            "  (conv1): Conv2d(9.47 k, 0.085% Params, 118.82 MMac, 13.200% MACs, 3, 64, kernel_size=(7, 7), stride=(2, 2), padding=(3, 3))\n",
            "  (max_pool1): MaxPool2d(0, 0.000% Params, 802.82 KMac, 0.089% MACs, kernel_size=3, stride=2, padding=1, dilation=1, ceil_mode=False)\n",
            "  (conv2_R): ResNet_layer(\n",
            "    74.11 k, 0.667% Params, 232.42 MMac, 25.819% MACs, \n",
            "    (conv3x_1): Conv2d(36.93 k, 0.332% Params, 115.81 MMac, 12.865% MACs, 64, 64, kernel_size=(3, 3), stride=(1, 1), padding=(1, 1))\n",
            "    (batchn1): BatchNorm2d(128, 0.001% Params, 401.41 KMac, 0.045% MACs, 64, eps=1e-05, momentum=0.1, affine=True, track_running_stats=True)\n",
            "    (conv3x_2): Conv2d(36.93 k, 0.332% Params, 115.81 MMac, 12.865% MACs, 64, 64, kernel_size=(3, 3), stride=(1, 1), padding=(1, 1))\n",
            "    (batchn2): BatchNorm2d(128, 0.001% Params, 401.41 KMac, 0.045% MACs, 64, eps=1e-05, momentum=0.1, affine=True, track_running_stats=True)\n",
            "    (shortcut): Identity(0, 0.000% Params, 0.0 Mac, 0.000% MACs, )\n",
            "  )\n",
            "  (conv3_R): ResNet_layer(\n",
            "    230.53 k, 2.076% Params, 180.73 MMac, 20.078% MACs, \n",
            "    (conv3x_1): Conv2d(73.86 k, 0.665% Params, 57.9 MMac, 6.433% MACs, 64, 128, kernel_size=(3, 3), stride=(2, 2), padding=(1, 1))\n",
            "    (batchn1): BatchNorm2d(256, 0.002% Params, 200.7 KMac, 0.022% MACs, 128, eps=1e-05, momentum=0.1, affine=True, track_running_stats=True)\n",
            "    (conv3x_2): Conv2d(147.58 k, 1.329% Params, 115.71 MMac, 12.854% MACs, 128, 128, kernel_size=(3, 3), stride=(1, 1), padding=(1, 1))\n",
            "    (batchn2): BatchNorm2d(256, 0.002% Params, 200.7 KMac, 0.022% MACs, 128, eps=1e-05, momentum=0.1, affine=True, track_running_stats=True)\n",
            "    (shortcut): Sequential(\n",
            "      8.58 k, 0.077% Params, 6.72 MMac, 0.747% MACs, \n",
            "      (0): Conv2d(8.32 k, 0.075% Params, 6.52 MMac, 0.725% MACs, 64, 128, kernel_size=(1, 1), stride=(2, 2))\n",
            "      (1): BatchNorm2d(256, 0.002% Params, 200.7 KMac, 0.022% MACs, 128, eps=1e-05, momentum=0.1, affine=True, track_running_stats=True)\n",
            "    )\n",
            "  )\n",
            "  (conv4_R): ResNet_layer(\n",
            "    919.81 k, 8.281% Params, 180.28 MMac, 20.028% MACs, \n",
            "    (conv3x_1): Conv2d(295.17 k, 2.658% Params, 57.85 MMac, 6.427% MACs, 128, 256, kernel_size=(3, 3), stride=(2, 2), padding=(1, 1))\n",
            "    (batchn1): BatchNorm2d(512, 0.005% Params, 100.35 KMac, 0.011% MACs, 256, eps=1e-05, momentum=0.1, affine=True, track_running_stats=True)\n",
            "    (conv3x_2): Conv2d(590.08 k, 5.313% Params, 115.66 MMac, 12.848% MACs, 256, 256, kernel_size=(3, 3), stride=(1, 1), padding=(1, 1))\n",
            "    (batchn2): BatchNorm2d(512, 0.005% Params, 100.35 KMac, 0.011% MACs, 256, eps=1e-05, momentum=0.1, affine=True, track_running_stats=True)\n",
            "    (shortcut): Sequential(\n",
            "      33.54 k, 0.302% Params, 6.57 MMac, 0.730% MACs, \n",
            "      (0): Conv2d(33.02 k, 0.297% Params, 6.47 MMac, 0.719% MACs, 128, 256, kernel_size=(1, 1), stride=(2, 2))\n",
            "      (1): BatchNorm2d(512, 0.005% Params, 100.35 KMac, 0.011% MACs, 256, eps=1e-05, momentum=0.1, affine=True, track_running_stats=True)\n",
            "    )\n",
            "  )\n",
            "  (conv5_R): ResNet_layer(\n",
            "    3.67 M, 33.084% Params, 180.06 MMac, 20.003% MACs, \n",
            "    (conv3x_1): Conv2d(1.18 M, 10.626% Params, 57.83 MMac, 6.424% MACs, 256, 512, kernel_size=(3, 3), stride=(2, 2), padding=(1, 1))\n",
            "    (batchn1): BatchNorm2d(1.02 k, 0.009% Params, 50.18 KMac, 0.006% MACs, 512, eps=1e-05, momentum=0.1, affine=True, track_running_stats=True)\n",
            "    (conv3x_2): Conv2d(2.36 M, 21.247% Params, 115.63 MMac, 12.846% MACs, 512, 512, kernel_size=(3, 3), stride=(1, 1), padding=(1, 1))\n",
            "    (batchn2): BatchNorm2d(1.02 k, 0.009% Params, 50.18 KMac, 0.006% MACs, 512, eps=1e-05, momentum=0.1, affine=True, track_running_stats=True)\n",
            "    (shortcut): Sequential(\n",
            "      132.61 k, 1.194% Params, 6.5 MMac, 0.722% MACs, \n",
            "      (0): Conv2d(131.58 k, 1.185% Params, 6.45 MMac, 0.716% MACs, 256, 512, kernel_size=(1, 1), stride=(2, 2))\n",
            "      (1): BatchNorm2d(1.02 k, 0.009% Params, 50.18 KMac, 0.006% MACs, 512, eps=1e-05, momentum=0.1, affine=True, track_running_stats=True)\n",
            "    )\n",
            "  )\n",
            "  (avg_pool): AvgPool2d(0, 0.000% Params, 25.09 KMac, 0.003% MACs, kernel_size=7, stride=7, padding=0)\n",
            "  (fc1): Linear(2.1 M, 18.919% Params, 2.1 MMac, 0.233% MACs, in_features=512, out_features=4096, bias=True)\n",
            "  (fc2): Linear(4.1 M, 36.887% Params, 4.1 MMac, 0.455% MACs, in_features=4096, out_features=1000, bias=True)\n",
            ")\n",
            "FLOPs: 900.16 MMac\n",
            "Params: 11.11 M\n"
          ]
        }
      ]
    }
  ]
}